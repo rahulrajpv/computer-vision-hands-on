{
 "cells": [
  {
   "cell_type": "code",
   "execution_count": 4,
   "metadata": {},
   "outputs": [
    {
     "ename": "",
     "evalue": "",
     "output_type": "error",
     "traceback": [
      "\u001b[1;31mThe Kernel crashed while executing code in the the current cell or a previous cell. Please review the code in the cell(s) to identify a possible cause of the failure. Click <a href='https://aka.ms/vscodeJupyterKernelCrash'>here</a> for more info. View Jupyter <a href='command:jupyter.viewOutput'>log</a> for further details."
     ]
    }
   ],
   "source": [
    "import cv2\n",
    "import numpy as np\n",
    "from skimage.feature import local_binary_pattern\n",
    "from sklearn.decomposition import PCA\n",
    "from sklearn.svm import SVC\n",
    "import joblib\n",
    "\n",
    "# Load the trained SVM model and PCA model\n",
    "svm = SVC(kernel='linear')\n",
    "svm = joblib.load(r'D:\\MTECH\\PROJECT\\CV\\ORIGINAL\\FINAL\\computer-vision-hands-on\\Project\\Models\\svm_model.joblib')\n",
    "pca = PCA(n_components=100)\n",
    "pca = joblib.load(r'D:\\MTECH\\PROJECT\\CV\\ORIGINAL\\FINAL\\computer-vision-hands-on\\Project\\Models\\pca_model.joblib')\n",
    "\n",
    "# Set up the camera\n",
    "cap = cv2.VideoCapture(0)\n",
    "\n",
    "while True:\n",
    "    # Capture frame-by-frame\n",
    "    ret, frame = cap.read()\n",
    "\n",
    "    # Convert the frame to grayscale\n",
    "    gray = cv2.cvtColor(frame, cv2.COLOR_BGR2GRAY)\n",
    "\n",
    "    # Detect faces in the frame\n",
    "    face_cascade = cv2.CascadeClassifier(r'D:\\MTECH\\PROJECT\\CV\\ORIGINAL\\FINAL\\computer-vision-hands-on\\Project\\Haarcascade\\haarcascade_frontalface_default.xml')\n",
    "    faces = face_cascade.detectMultiScale(gray, scaleFactor=1.1, minNeighbors=5, minSize=(30, 30), flags=cv2.CASCADE_SCALE_IMAGE)\n",
    "\n",
    "    # Loop over each face\n",
    "    for (x, y, w, h) in faces:\n",
    "        # Extract the face ROI\n",
    "        roi_gray = gray[y:y+h, x:x+w]\n",
    "\n",
    "        # Resize the ROI to 48x48 pixels\n",
    "        roi_gray = cv2.resize(roi_gray, (48, 48))\n",
    "\n",
    "        # Extract LBP features from the ROI\n",
    "        lbp = local_binary_pattern(roi_gray, 8, 1) # LBP parameters: (8, 1) for 8 neighbors and radius 1 for a total of 8*1=8 pixels\n",
    "        hist, _ = np.histogram(lbp, bins=np.arange(0, 257), density=True) # Normalize the histogram values before feeding it to the SVM model\n",
    "        lbp_features = np.array(hist).reshape(1, -1) # Convert the histogram to a feature vector using numpy array's reshape() method\n",
    "\n",
    "        # Apply PCA to reduce the dimensionality of the LBP features\n",
    "        lbp_pca = pca.transform(lbp_features)\n",
    "\n",
    "        # Predict the emotion using the SVM model\n",
    "        emotion_labels = ['Angry', 'Disgust', 'Fear', 'Happy', 'Sad', 'Surprise', 'Neutral']\n",
    "        predicted_emotion = svm.predict(lbp_pca)[0] # The predicted emotion  is the first element in the returned array\n",
    "\n",
    "        # Draw the bounding box and label for the detected face\n",
    "        cv2.rectangle(frame, (x, y), (x+w, y+h), (0, 255, 0), 2) # Bounding box around the face ROI\n",
    "        cv2.putText(frame, emotion_labels[predicted_emotion], (x, y-10), cv2.FONT_HERSHEY_SIMPLEX, 0.9, (0, 255, 0), 2) # Emotion label near the bounding box\n",
    "\n",
    "    # Display the resulting frame\n",
    "    cv2.imshow('LBP FACE EMOTION RECOGNITION', frame)\n",
    "\n",
    "    # Exit the loop if the 'q' key is pressed\n",
    "    if cv2.waitKey(1) & 0xFF == ord('q'):\n",
    "        break\n",
    "\n",
    "# Release the camera and close all windows\n",
    "cap.release()\n",
    "cv2.destroyAllWindows()"
   ]
  },
  {
   "cell_type": "code",
   "execution_count": null,
   "metadata": {},
   "outputs": [],
   "source": []
  }
 ],
 "metadata": {
  "kernelspec": {
   "display_name": "Python 3",
   "language": "python",
   "name": "python3"
  },
  "language_info": {
   "codemirror_mode": {
    "name": "ipython",
    "version": 3
   },
   "file_extension": ".py",
   "mimetype": "text/x-python",
   "name": "python",
   "nbconvert_exporter": "python",
   "pygments_lexer": "ipython3",
   "version": "3.11.3"
  },
  "orig_nbformat": 4
 },
 "nbformat": 4,
 "nbformat_minor": 2
}
